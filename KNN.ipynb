{
  "nbformat": 4,
  "nbformat_minor": 0,
  "metadata": {
    "colab": {
      "name": "KNN.ipynb",
      "provenance": [],
      "collapsed_sections": [],
      "authorship_tag": "ABX9TyMAeRRpXx39HsGpKgi9RTxY",
      "include_colab_link": true
    },
    "kernelspec": {
      "name": "python3",
      "display_name": "Python 3"
    },
    "language_info": {
      "name": "python"
    }
  },
  "cells": [
    {
      "cell_type": "markdown",
      "metadata": {
        "id": "view-in-github",
        "colab_type": "text"
      },
      "source": [
        "<a href=\"https://colab.research.google.com/github/Arminsbss/KNN/blob/main/KNN.ipynb\" target=\"_parent\"><img src=\"https://colab.research.google.com/assets/colab-badge.svg\" alt=\"Open In Colab\"/></a>"
      ]
    },
    {
      "cell_type": "code",
      "execution_count": null,
      "metadata": {
        "id": "0m9k7SNG7Zt8"
      },
      "outputs": [],
      "source": [
        "'''====================Armin SabourMoghaddam ===================='''\n",
        "#==========Import sklearn Iris data(150*4)==========\n",
        "#==========We use 80% data for training(120) and 20% for test(30)==========\n",
        "from sklearn.datasets import load_iris\n",
        "import numpy as np\n",
        "Iris=np.array(load_iris().data) #150*4 array\n",
        "target=np.array(load_iris().target) #150 array\n",
        "Iris = np.column_stack((Iris, target)) #150*5\n",
        "Train_data=[]\n",
        "Train_data=np.append(Train_data,Iris[:40,:]).reshape(40,5)\n",
        "Train_data=np.append(Train_data,Iris[50:90,:]).reshape(80,5)\n",
        "Train_data=np.append(Train_data,Iris[100:140,:]).reshape(120,5)\n",
        "Train=Train_data[:,:4]\n",
        "Test_data=[]\n",
        "Test_data=np.append(Test_data,Iris[40:50,:]).reshape(10,5)\n",
        "Test_data=np.append(Test_data,Iris[90:100,:]).reshape(20,5)\n",
        "Test_data=np.append(Test_data,Iris[140:150,:]).reshape(30,5)\n",
        "Test=Test_data[:,:4]"
      ]
    },
    {
      "cell_type": "code",
      "source": [
        "#==========assignments==========\n",
        "K=1\n",
        "K=int(input(\"Enter K value for K-NN: \"))"
      ],
      "metadata": {
        "colab": {
          "base_uri": "https://localhost:8080/"
        },
        "id": "EpUNmcXACQ7Y",
        "outputId": "f75aeb02-dad5-4434-d6f9-a545cdff213f"
      },
      "execution_count": null,
      "outputs": [
        {
          "name": "stdout",
          "output_type": "stream",
          "text": [
            "Enter K value for K-NN: 1\n"
          ]
        }
      ]
    },
    {
      "cell_type": "markdown",
      "source": [
        "\n",
        "    Step 1: Calculate Euclidean Distance.\n",
        "    Step 2: Get Nearest Neighbors.\n",
        "    Step 3: Make Predictions.\n"
      ],
      "metadata": {
        "id": "SGe-qov89lX3"
      }
    },
    {
      "cell_type": "code",
      "source": [
        "#==========calculate the Euclidean distance between two vectors==========\n",
        "from math import sqrt\n",
        "def euclidean_distance(row1, row2):\n",
        "\t# junk=row1.pop(-1)\n",
        "\t# junk=row2.pop(-1)\n",
        "\tdistance = 0.0\n",
        "\tfor i in range(len(row1)):\n",
        "\t\tdistance += (row1[i] - row2[i])**2\n",
        "\treturn sqrt(distance)"
      ],
      "metadata": {
        "id": "qqemcPEV9pNA"
      },
      "execution_count": null,
      "outputs": []
    },
    {
      "cell_type": "code",
      "source": [
        "#==========Calculate nearest k neighbors==========\n",
        "def Calculate_nearest_k_neighbors(query,train,k):\n",
        "\tdistances=[]\n",
        "\tfor row in train:\n",
        "\t\tdistances.append(euclidean_distance(query,row))\n",
        "\tnearest_neighbors_indexes=[]\n",
        "\tfor i in range(k):\n",
        "\t\tminimum_index=distances.index(min(distances))\n",
        "\t\tnearest_neighbors_indexes.append(minimum_index)\n",
        "\t\tdistances[distances.index(min(distances))]=float('inf')\n",
        "\tnearest_k_neighbors=[]\n",
        "\tfor j in nearest_neighbors_indexes:\n",
        "\t\tnearest_k_neighbors.append(train[j])\n",
        "\treturn nearest_k_neighbors\n",
        "# a=[0,0]\n",
        "# b=[[0,1],[1,1],[342,42],[1,2]]\n",
        "# Calculate_nearest_k_neighbors([5.9, 3. , 5.1, 1.8],Train_data,K)"
      ],
      "metadata": {
        "id": "3P6vKChFDjsE"
      },
      "execution_count": null,
      "outputs": []
    },
    {
      "cell_type": "code",
      "source": [
        "#==========Calculate maximum number of classification==========\n",
        "def Classification_max(nearest_k_neighbors_classes):\n",
        "  c0=c1=c2=0\n",
        "  for i in nearest_k_neighbors_classes:\n",
        "    if i==0:\n",
        "      c0+=1\n",
        "    elif i==1:\n",
        "      c1+=1\n",
        "    elif i==2:\n",
        "      c2+=1\n",
        "  if c0>c1 and c0>c2:\n",
        "    classification=0\n",
        "  elif c1>c0 and c1>c2:\n",
        "    classification=1\n",
        "  else :\n",
        "    classification=2\n",
        "  return classification"
      ],
      "metadata": {
        "id": "si-ecQ6-nLWy"
      },
      "execution_count": null,
      "outputs": []
    },
    {
      "cell_type": "code",
      "source": [
        "#==========Run on test data==========\n",
        "counter=0\n",
        "for i in range(len(Test)):\n",
        "  nearest_k_neighbors=Calculate_nearest_k_neighbors(Test[i],Train_data,K)\n",
        "  nearest_k_neighbors_classes=[]\n",
        "  for j in nearest_k_neighbors:\n",
        "    nearest_k_neighbors_classes.append(j[-1])\n",
        "  if Classification_max(nearest_k_neighbors_classes)!=Test_data[i][-1]:\n",
        "    counter+=1\n",
        "print(counter)"
      ],
      "metadata": {
        "colab": {
          "base_uri": "https://localhost:8080/"
        },
        "id": "xs12B-ZnTyaz",
        "outputId": "c64b5d19-7bf3-4349-e3d4-ca625b4d38da"
      },
      "execution_count": null,
      "outputs": [
        {
          "output_type": "stream",
          "name": "stdout",
          "text": [
            "0\n"
          ]
        }
      ]
    }
  ]
}